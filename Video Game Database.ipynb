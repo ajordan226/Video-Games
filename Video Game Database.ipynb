{
 "metadata": {
  "language_info": {
   "codemirror_mode": {
    "name": "ipython",
    "version": 3
   },
   "file_extension": ".py",
   "mimetype": "text/x-python",
   "name": "python",
   "nbconvert_exporter": "python",
   "pygments_lexer": "ipython3",
   "version": "3.7.4-final"
  },
  "orig_nbformat": 2,
  "kernelspec": {
   "name": "python3",
   "display_name": "Python 3",
   "language": "python"
  }
 },
 "nbformat": 4,
 "nbformat_minor": 2,
 "cells": [
  {
   "cell_type": "code",
   "execution_count": 1,
   "metadata": {},
   "outputs": [],
   "source": [
    "import sqlite3\n",
    "import pandas as pd\n",
    "db = sqlite3.connect('C:\\\\Users\\\\ajord\\\\Video-Games\\\\videoGames.db')\n",
    "def run_query(query):\n",
    "    return pd.read_sql_query(query,db)"
   ]
  },
  {
   "cell_type": "code",
   "execution_count": 2,
   "metadata": {},
   "outputs": [],
   "source": [
    "video_games = pd.read_excel(\n",
    "    'Video Games.xlsx', \n",
    "    sheet_name='video_games',\n",
    "    header=0)\n",
    "\n",
    "genres = pd.read_excel(\n",
    "    'Video Games.xlsx', \n",
    "    sheet_name='genres',\n",
    "    header=0)\n",
    "\n",
    "consoles = pd.read_excel(\n",
    "    'Video Games.xlsx', \n",
    "    sheet_name='consoles',\n",
    "    header=0)\n",
    "\n",
    "developers = pd.read_excel(\n",
    "    'Video Games.xlsx', \n",
    "    sheet_name='developers',\n",
    "    header=0)\n",
    "\n",
    "publishers = pd.read_excel(\n",
    "    'Video Games.xlsx',\n",
    "    sheet_name='publishers',\n",
    "    header=0\n",
    ")"
   ]
  },
  {
   "cell_type": "code",
   "execution_count": 4,
   "metadata": {},
   "outputs": [
    {
     "output_type": "execute_result",
     "data": {
      "text/plain": [
       "   PublisherID       Name               Headquarters              Founded\n",
       "0            1       Sony  Minato City, Tokyo, Japan  1946-05-07 00:00:00\n",
       "1            2       Sega    Shinigawa, Toyko, Japan  1960-06-03 00:00:00\n",
       "2            3  Microsoft        Redmond, Washington  1975-04-04 00:00:00\n",
       "3            4        SNK        Suita, Osaka, Japan  1978-07-22 00:00:00\n",
       "4            5   Nintendo        Kyoto, Kyoto, Japan            9/23/1889"
      ],
      "text/html": "<div>\n<style scoped>\n    .dataframe tbody tr th:only-of-type {\n        vertical-align: middle;\n    }\n\n    .dataframe tbody tr th {\n        vertical-align: top;\n    }\n\n    .dataframe thead th {\n        text-align: right;\n    }\n</style>\n<table border=\"1\" class=\"dataframe\">\n  <thead>\n    <tr style=\"text-align: right;\">\n      <th></th>\n      <th>PublisherID</th>\n      <th>Name</th>\n      <th>Headquarters</th>\n      <th>Founded</th>\n    </tr>\n  </thead>\n  <tbody>\n    <tr>\n      <td>0</td>\n      <td>1</td>\n      <td>Sony</td>\n      <td>Minato City, Tokyo, Japan</td>\n      <td>1946-05-07 00:00:00</td>\n    </tr>\n    <tr>\n      <td>1</td>\n      <td>2</td>\n      <td>Sega</td>\n      <td>Shinigawa, Toyko, Japan</td>\n      <td>1960-06-03 00:00:00</td>\n    </tr>\n    <tr>\n      <td>2</td>\n      <td>3</td>\n      <td>Microsoft</td>\n      <td>Redmond, Washington</td>\n      <td>1975-04-04 00:00:00</td>\n    </tr>\n    <tr>\n      <td>3</td>\n      <td>4</td>\n      <td>SNK</td>\n      <td>Suita, Osaka, Japan</td>\n      <td>1978-07-22 00:00:00</td>\n    </tr>\n    <tr>\n      <td>4</td>\n      <td>5</td>\n      <td>Nintendo</td>\n      <td>Kyoto, Kyoto, Japan</td>\n      <td>9/23/1889</td>\n    </tr>\n  </tbody>\n</table>\n</div>"
     },
     "metadata": {},
     "execution_count": 4
    }
   ],
   "source": [
    "publishers.head()"
   ]
  },
  {
   "cell_type": "code",
   "execution_count": null,
   "metadata": {},
   "outputs": [],
   "source": []
  }
 ]
}